def myFunc(x):
  return x*2

